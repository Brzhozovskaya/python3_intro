{
 "cells": [
  {
   "cell_type": "markdown",
   "metadata": {},
   "source": [
    "JupyterLab и Jupyter Notebook — мощные инструменты специалиста по [Data Science](https://proglib.io/p/jupyter/)"
   ]
  },
  {
   "cell_type": "markdown",
   "metadata": {},
   "source": [
    "Рассмотрим некоторые \"фишки\" оболочки"
   ]
  },
  {
   "cell_type": "code",
   "execution_count": 1,
   "metadata": {},
   "outputs": [
    {
     "name": "stdout",
     "output_type": "stream",
     "text": [
      "Help on built-in function len in module builtins:\n",
      "\n",
      "len(obj, /)\n",
      "    Return the number of items in a container.\n",
      "\n"
     ]
    }
   ],
   "source": [
    "help(len)"
   ]
  },
  {
   "cell_type": "code",
   "execution_count": 2,
   "metadata": {},
   "outputs": [
    {
     "data": {
      "text/plain": [
       "\u001b[0;31mSignature:\u001b[0m \u001b[0mlen\u001b[0m\u001b[0;34m(\u001b[0m\u001b[0mobj\u001b[0m\u001b[0;34m,\u001b[0m \u001b[0;34m/\u001b[0m\u001b[0;34m)\u001b[0m\u001b[0;34m\u001b[0m\u001b[0m\n",
       "\u001b[0;31mDocstring:\u001b[0m Return the number of items in a container.\n",
       "\u001b[0;31mType:\u001b[0m      builtin_function_or_method\n"
      ]
     },
     "metadata": {},
     "output_type": "display_data"
    }
   ],
   "source": [
    "len?"
   ]
  },
  {
   "cell_type": "code",
   "execution_count": 3,
   "metadata": {},
   "outputs": [
    {
     "data": {
      "text/plain": [
       "\u001b[0;31mSignature:\u001b[0m \u001b[0mL\u001b[0m\u001b[0;34m.\u001b[0m\u001b[0minsert\u001b[0m\u001b[0;34m(\u001b[0m\u001b[0mindex\u001b[0m\u001b[0;34m,\u001b[0m \u001b[0mobject\u001b[0m\u001b[0;34m,\u001b[0m \u001b[0;34m/\u001b[0m\u001b[0;34m)\u001b[0m\u001b[0;34m\u001b[0m\u001b[0m\n",
       "\u001b[0;31mDocstring:\u001b[0m Insert object before index.\n",
       "\u001b[0;31mType:\u001b[0m      builtin_function_or_method\n"
      ]
     },
     "metadata": {},
     "output_type": "display_data"
    }
   ],
   "source": [
    "L = [1, 2]\n",
    "L.insert?"
   ]
  },
  {
   "cell_type": "code",
   "execution_count": 4,
   "metadata": {},
   "outputs": [],
   "source": [
    "def square(a):\n",
    "    \"\"\"Return the square of a.\"\"\"\n",
    "    return a ** 2"
   ]
  },
  {
   "cell_type": "code",
   "execution_count": 5,
   "metadata": {},
   "outputs": [
    {
     "data": {
      "text/plain": [
       "\u001b[0;31mSignature:\u001b[0m \u001b[0msquare\u001b[0m\u001b[0;34m(\u001b[0m\u001b[0ma\u001b[0m\u001b[0;34m)\u001b[0m\u001b[0;34m\u001b[0m\u001b[0m\n",
       "\u001b[0;31mDocstring:\u001b[0m Return the square of a.\n",
       "\u001b[0;31mFile:\u001b[0m      ~/Документы/code/GitHub/jupyterlab_lessons/<ipython-input-4-c96e82bfafc5>\n",
       "\u001b[0;31mType:\u001b[0m      function\n"
      ]
     },
     "metadata": {},
     "output_type": "display_data"
    }
   ],
   "source": [
    "square?"
   ]
  },
  {
   "cell_type": "markdown",
   "metadata": {},
   "source": [
    "Доступ к исходному коду функции:"
   ]
  },
  {
   "cell_type": "code",
   "execution_count": 10,
   "metadata": {},
   "outputs": [
    {
     "data": {
      "text/plain": [
       "\u001b[0;31mSignature:\u001b[0m \u001b[0msquare\u001b[0m\u001b[0;34m(\u001b[0m\u001b[0ma\u001b[0m\u001b[0;34m)\u001b[0m\u001b[0;34m\u001b[0m\u001b[0m\n",
       "\u001b[0;31mSource:\u001b[0m   \n",
       "\u001b[0;32mdef\u001b[0m \u001b[0msquare\u001b[0m\u001b[0;34m(\u001b[0m\u001b[0ma\u001b[0m\u001b[0;34m)\u001b[0m\u001b[0;34m:\u001b[0m\u001b[0;34m\u001b[0m\n",
       "\u001b[0;34m\u001b[0m    \u001b[0;34m\"\"\"Return the square of a.\"\"\"\u001b[0m\u001b[0;34m\u001b[0m\n",
       "\u001b[0;34m\u001b[0m    \u001b[0;32mreturn\u001b[0m \u001b[0ma\u001b[0m \u001b[0;34m**\u001b[0m \u001b[0;36m2\u001b[0m\u001b[0;34m\u001b[0m\u001b[0m\n",
       "\u001b[0;31mFile:\u001b[0m      ~/Документы/code/GitHub/jupyterlab_lessons/<ipython-input-4-c96e82bfafc5>\n",
       "\u001b[0;31mType:\u001b[0m      function\n"
      ]
     },
     "metadata": {},
     "output_type": "display_data"
    }
   ],
   "source": [
    "square??"
   ]
  },
  {
   "cell_type": "markdown",
   "metadata": {},
   "source": [
    "L.< Tab >"
   ]
  },
  {
   "cell_type": "code",
   "execution_count": 11,
   "metadata": {},
   "outputs": [],
   "source": [
    "L.append(1)"
   ]
  },
  {
   "cell_type": "markdown",
   "metadata": {},
   "source": [
    "from math import < Tab >"
   ]
  },
  {
   "cell_type": "code",
   "execution_count": 12,
   "metadata": {},
   "outputs": [],
   "source": [
    "from math import acosh"
   ]
  },
  {
   "cell_type": "markdown",
   "metadata": {},
   "source": [
    "ищем строковый метод, содержащий где-то в названии слово find"
   ]
  },
  {
   "cell_type": "code",
   "execution_count": 13,
   "metadata": {},
   "outputs": [
    {
     "data": {
      "text/plain": [
       "str.find\n",
       "str.rfind"
      ]
     },
     "metadata": {},
     "output_type": "display_data"
    }
   ],
   "source": [
    "str.*find*?"
   ]
  },
  {
   "cell_type": "markdown",
   "metadata": {},
   "source": [
    "С % начинаются \"магические\" команды"
   ]
  },
  {
   "cell_type": "code",
   "execution_count": 21,
   "metadata": {},
   "outputs": [
    {
     "name": "stdout",
     "output_type": "stream",
     "text": [
      "1 squared is 1\n",
      "2 squared is 4\n",
      "3 squared is 9\n"
     ]
    }
   ],
   "source": [
    "%run myscript.py"
   ]
  },
  {
   "cell_type": "code",
   "execution_count": 27,
   "metadata": {},
   "outputs": [
    {
     "data": {
      "text/plain": [
       "['',\n",
       " 'help(len)',\n",
       " \"get_ipython().run_line_magic('pinfo', 'len')\",\n",
       " \"L = [1, 2]\\nget_ipython().run_line_magic('pinfo', 'L.insert')\",\n",
       " 'def square(a):\\n    \"\"\"Return the square of a.\"\"\"\\n    return a ** 2',\n",
       " \"get_ipython().run_line_magic('pinfo', 'square')\",\n",
       " \"get_ipython().run_line_magic('pinfo2', 'square')\",\n",
       " 'square?? # обращение к исходному коду',\n",
       " 'square?? ',\n",
       " 'square?? ',\n",
       " \"get_ipython().run_line_magic('pinfo2', 'square')\",\n",
       " 'L.append(1)',\n",
       " 'from math import acosh',\n",
       " \"get_ipython().run_line_magic('psearch', 'str.*find*')\",\n",
       " \"get_ipython().run_line_magic('paste', '')\\n>> def fun():\\n    return 4\",\n",
       " \"get_ipython().run_line_magic('paste', '')\\n>>> def fun():\\n    return 4\",\n",
       " \"get_ipython().run_line_magic('paste', '')\\n>>> def donothing(x):\\n...     return x\",\n",
       " \"get_ipython().run_line_magic('paste', '')\\n>>> def donothing(x):\\n...     return x\",\n",
       " \"get_ipython().run_line_magic('cpaste', '')\",\n",
       " \"get_ipython().run_line_magic('cpaste', '')\",\n",
       " \"get_ipython().run_line_magic('run', '')\",\n",
       " \"get_ipython().run_line_magic('run', 'myscript.py')\",\n",
       " \"get_ipython().run_line_magic('magic', '')\",\n",
       " \"get_ipython().run_line_magic('lsmagic', '')\",\n",
       " 'print(In)',\n",
       " 'print(Out)',\n",
       " 'Out',\n",
       " 'In']"
      ]
     },
     "execution_count": 27,
     "metadata": {},
     "output_type": "execute_result"
    }
   ],
   "source": [
    "In"
   ]
  },
  {
   "cell_type": "code",
   "execution_count": 32,
   "metadata": {},
   "outputs": [
    {
     "data": {
      "text/plain": [
       "['',\n",
       " 'help(len)',\n",
       " \"get_ipython().run_line_magic('pinfo', 'len')\",\n",
       " \"L = [1, 2]\\nget_ipython().run_line_magic('pinfo', 'L.insert')\",\n",
       " 'def square(a):\\n    \"\"\"Return the square of a.\"\"\"\\n    return a ** 2',\n",
       " \"get_ipython().run_line_magic('pinfo', 'square')\",\n",
       " \"get_ipython().run_line_magic('pinfo2', 'square')\",\n",
       " 'square?? # обращение к исходному коду',\n",
       " 'square?? ',\n",
       " 'square?? ',\n",
       " \"get_ipython().run_line_magic('pinfo2', 'square')\",\n",
       " 'L.append(1)',\n",
       " 'from math import acosh',\n",
       " \"get_ipython().run_line_magic('psearch', 'str.*find*')\",\n",
       " \"get_ipython().run_line_magic('paste', '')\\n>> def fun():\\n    return 4\",\n",
       " \"get_ipython().run_line_magic('paste', '')\\n>>> def fun():\\n    return 4\",\n",
       " \"get_ipython().run_line_magic('paste', '')\\n>>> def donothing(x):\\n...     return x\",\n",
       " \"get_ipython().run_line_magic('paste', '')\\n>>> def donothing(x):\\n...     return x\",\n",
       " \"get_ipython().run_line_magic('cpaste', '')\",\n",
       " \"get_ipython().run_line_magic('cpaste', '')\",\n",
       " \"get_ipython().run_line_magic('run', '')\",\n",
       " \"get_ipython().run_line_magic('run', 'myscript.py')\",\n",
       " \"get_ipython().run_line_magic('magic', '')\",\n",
       " \"get_ipython().run_line_magic('lsmagic', '')\",\n",
       " 'print(In)',\n",
       " 'print(Out)',\n",
       " 'Out',\n",
       " 'In',\n",
       " 'Out[27]',\n",
       " '_27',\n",
       " 'Out[11]',\n",
       " 'Out[3]',\n",
       " 'Out[27]']"
      ]
     },
     "execution_count": 32,
     "metadata": {},
     "output_type": "execute_result"
    }
   ],
   "source": [
    "Out[27]"
   ]
  },
  {
   "cell_type": "markdown",
   "metadata": {},
   "source": [
    "Использование системного командного процессора"
   ]
  },
  {
   "cell_type": "code",
   "execution_count": 33,
   "metadata": {},
   "outputs": [
    {
     "name": "stdout",
     "output_type": "stream",
     "text": [
      "111.py\t\t      jupyterlab.ipynb\trdf_summarize_entity.py\n",
      "1.jpg\t\t      lesson_1.ipynb\trecommendations.ipynb\n",
      "data01.csv\t      mars_data.json\ttemper_data.csv\n",
      "data-structure01.csv  myscript.py\ttest.py\n",
      "df_out.csv\t      pandas.ipynb\n"
     ]
    }
   ],
   "source": [
    "!ls"
   ]
  },
  {
   "cell_type": "code",
   "execution_count": 34,
   "metadata": {},
   "outputs": [],
   "source": [
    "contents = !ls"
   ]
  },
  {
   "cell_type": "code",
   "execution_count": 35,
   "metadata": {},
   "outputs": [
    {
     "data": {
      "text/plain": [
       "['111.py',\n",
       " '1.jpg',\n",
       " 'data01.csv',\n",
       " 'data-structure01.csv',\n",
       " 'df_out.csv',\n",
       " 'jupyterlab.ipynb',\n",
       " 'lesson_1.ipynb',\n",
       " 'mars_data.json',\n",
       " 'myscript.py',\n",
       " 'pandas.ipynb',\n",
       " 'rdf_summarize_entity.py',\n",
       " 'recommendations.ipynb',\n",
       " 'temper_data.csv',\n",
       " 'test.py']"
      ]
     },
     "execution_count": 35,
     "metadata": {},
     "output_type": "execute_result"
    }
   ],
   "source": [
    "contents"
   ]
  },
  {
   "cell_type": "code",
   "execution_count": null,
   "metadata": {},
   "outputs": [],
   "source": []
  }
 ],
 "metadata": {
  "kernelspec": {
   "display_name": "Python 3",
   "language": "python",
   "name": "python3"
  },
  "language_info": {
   "codemirror_mode": {
    "name": "ipython",
    "version": 3
   },
   "file_extension": ".py",
   "mimetype": "text/x-python",
   "name": "python",
   "nbconvert_exporter": "python",
   "pygments_lexer": "ipython3",
   "version": "3.7.2"
  }
 },
 "nbformat": 4,
 "nbformat_minor": 2
}
